{
 "cells": [
  {
   "cell_type": "markdown",
   "id": "10573b0c",
   "metadata": {},
   "source": [
    "## Interactive session\n",
    "\n",
    "We are about to load a Chlorophyll data set. We have to remove the trend and subtract the monthly climatologies. We want to plot a panel of maps showing the correlation with our ENSO index."
   ]
  },
  {
   "cell_type": "code",
   "execution_count": null,
   "id": "8952d02e",
   "metadata": {},
   "outputs": [],
   "source": [
    "%matplotlib inline\n",
    "import xarray as xr\n",
    "import cartopy.crs as ccrs\n",
    "import numpy as np\n",
    "import pandas as pd\n",
    "from scipy.signal import detrend\n",
    "import matplotlib.pyplot as plt\n",
    "import matplotlib.dates as mdates\n",
    "import matplotlib.ticker as ticker\n",
    "import warnings\n",
    "warnings.filterwarnings('ignore')\n",
    "\n",
    "plt.rcParams['figure.figsize'] = (9, 5)\n",
    "plt.rcParams['font.size'] = 20\n",
    "\n",
    "# define a function that subtracts the mean along the \"time\" dimension\n",
    "def subtract(x):\n",
    "    return x - x.mean(dim=\"time\")\n",
    "\n",
    "# define our custom detrend function that also fills NaNs with 0s\n",
    "def detrend_(x):\n",
    "    return detrend(x.fillna(0),axis=0)"
   ]
  },
  {
   "cell_type": "markdown",
   "id": "e534f9f7",
   "metadata": {},
   "source": [
    "**Q-1** Load the ENSO index from the recently created NetCDF file (`our_enso.nc`)"
   ]
  },
  {
   "cell_type": "code",
   "execution_count": null,
   "id": "2250a2b1",
   "metadata": {},
   "outputs": [],
   "source": []
  },
  {
   "cell_type": "markdown",
   "id": "ce81469b",
   "metadata": {},
   "source": [
    "**Q-2** Pre-processing the chlorophyll dataset\n",
    "1. Open the chlorophyll data set as an `xarray` dataset and inspect it using `display()`\n",
    "2. Pick a location and plot the monthly climatology\n",
    "3. Detrend the dataset and subtract the monthly climatology and check if the climatology has been removed\n",
    "4. What time period is covered by both datasets?\n",
    "5. Select a subset of the ENSO data for this shorter time period (*Hint: A select a subset using `.sel()` and `slice()` to define start and end points for a selection.*)"
   ]
  },
  {
   "cell_type": "code",
   "execution_count": null,
   "id": "17c38be6",
   "metadata": {},
   "outputs": [],
   "source": []
  },
  {
   "cell_type": "markdown",
   "id": "e141bbfa",
   "metadata": {},
   "source": [
    "**Q-3** Compute and visualize a correlation map of Chlorophyll and ENSO. What do you see?"
   ]
  },
  {
   "cell_type": "code",
   "execution_count": null,
   "id": "97e538c7",
   "metadata": {
    "scrolled": false
   },
   "outputs": [],
   "source": []
  },
  {
   "cell_type": "markdown",
   "id": "5850219a",
   "metadata": {},
   "source": [
    "**Q-4** *[bonus points]* Compute the correlation map for lead/lags from -12 months to +12 months."
   ]
  },
  {
   "cell_type": "code",
   "execution_count": null,
   "id": "5405125d",
   "metadata": {},
   "outputs": [],
   "source": []
  },
  {
   "cell_type": "markdown",
   "id": "ee1d14e5",
   "metadata": {},
   "source": [
    "**A solution to the last question might look like this.**\n",
    "<img src=\"images/chl_lead-lag_correlations.png\" width=\"1200\" align=\"center\">"
   ]
  }
 ],
 "metadata": {
  "kernelspec": {
   "display_name": "winterschool",
   "language": "python",
   "name": "winterschool"
  },
  "language_info": {
   "codemirror_mode": {
    "name": "ipython",
    "version": 3
   },
   "file_extension": ".py",
   "mimetype": "text/x-python",
   "name": "python",
   "nbconvert_exporter": "python",
   "pygments_lexer": "ipython3",
   "version": "3.9.6"
  }
 },
 "nbformat": 4,
 "nbformat_minor": 5
}
